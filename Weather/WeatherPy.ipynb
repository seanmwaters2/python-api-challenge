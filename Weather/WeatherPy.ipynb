{
 "cells": [
  {
   "cell_type": "markdown",
   "metadata": {},
   "source": [
    "# WeatherPy\n",
    "----\n",
    "\n",
    "#### Note\n",
    "* Instructions have been included for each segment. You do not have to follow them exactly, but they are included to help you think through the steps."
   ]
  },
  {
   "cell_type": "code",
   "execution_count": 2,
   "metadata": {
    "scrolled": true
   },
   "outputs": [],
   "source": [
    "# Dependencies and Setup\n",
    "import matplotlib.pyplot as plt\n",
    "import pandas as pd\n",
    "import numpy as np\n",
    "import requests\n",
    "import time\n",
    "from scipy.stats import linregress\n",
    "\n",
    "# Import API key\n",
    "from api_keys import weather_api_key\n",
    "\n",
    "# Incorporated citipy to determine city based on latitude and longitude\n",
    "from citipy import citipy\n",
    "\n",
    "\n",
    "# Range of latitudes and longitudes\n",
    "lat_range = (-90, 90)\n",
    "lng_range = (-180, 180)"
   ]
  },
  {
   "cell_type": "markdown",
   "metadata": {},
   "source": [
    "## Generate Cities List"
   ]
  },
  {
   "cell_type": "code",
   "execution_count": 3,
   "metadata": {},
   "outputs": [
    {
     "data": {
      "text/plain": [
       "590"
      ]
     },
     "execution_count": 3,
     "metadata": {},
     "output_type": "execute_result"
    }
   ],
   "source": [
    "# List for holding lat_lngs and cities\n",
    "lat_lngs = []\n",
    "cities = []\n",
    "\n",
    "# Create a set of random lat and lng combinations\n",
    "lats = np.random.uniform(lat_range[0], lat_range[1], size=1500)\n",
    "lngs = np.random.uniform(lng_range[0], lng_range[1], size=1500)\n",
    "lat_lngs = zip(lats, lngs)\n",
    "\n",
    "# Identify nearest city for each lat, lng combination\n",
    "for lat_lng in lat_lngs:\n",
    "    city = citipy.nearest_city(lat_lng[0], lat_lng[1]).city_name\n",
    "    \n",
    "    # If the city is unique, then add it to a our cities list\n",
    "    if city not in cities:\n",
    "        cities.append(city)\n",
    "\n",
    "# Print the city count to confirm sufficient count\n",
    "len(cities)"
   ]
  },
  {
   "cell_type": "markdown",
   "metadata": {},
   "source": [
    "### Perform API Calls\n",
    "* Perform a weather check on each city using a series of successive API calls.\n",
    "* Include a print log of each city as it'sbeing processed (with the city number and city name).\n"
   ]
  },
  {
   "cell_type": "code",
   "execution_count": 48,
   "metadata": {
    "scrolled": true
   },
   "outputs": [
    {
     "name": "stdout",
     "output_type": "stream",
     "text": [
      "Beginning Data Retrieval\n",
      "------------------------------\n",
      "Processing Record 1 | bluff\n",
      "Processing Record 2 | kaspiyskiy\n",
      "City not found. Skipping...\n",
      "Processing Record 3 | esperance\n",
      "Processing Record 4 | hasaki\n",
      "Processing Record 5 | port alfred\n",
      "Processing Record 6 | maarianhamina\n",
      "Processing Record 7 | san miguel\n",
      "City not found. Skipping...\n",
      "Processing Record 8 | rikitea\n",
      "Processing Record 9 | kloulklubed\n",
      "Processing Record 10 | alofi\n",
      "Processing Record 11 | butaritari\n",
      "Processing Record 12 | norman wells\n",
      "City not found. Skipping...\n",
      "Processing Record 13 | new norfolk\n",
      "Processing Record 14 | kapaa\n",
      "Processing Record 15 | sambava\n",
      "Processing Record 16 | wamba\n",
      "City not found. Skipping...\n",
      "Processing Record 17 | hithadhoo\n",
      "Processing Record 18 | turochak\n",
      "Processing Record 19 | busselton\n",
      "Processing Record 20 | highland\n",
      "Processing Record 21 | vaini\n",
      "Processing Record 22 | hami\n",
      "Processing Record 23 | mataura\n",
      "Processing Record 24 | dosso\n",
      "Processing Record 25 | sigiriya\n",
      "Processing Record 26 | hobart\n",
      "Processing Record 27 | tasiilaq\n",
      "Processing Record 28 | atuona\n",
      "Processing Record 29 | dingle\n",
      "Processing Record 30 | vieques\n",
      "Processing Record 31 | carutapera\n",
      "Processing Record 32 | mount gambier\n",
      "Processing Record 33 | torbay\n",
      "Processing Record 34 | mahebourg\n",
      "Processing Record 35 | avarua\n",
      "Processing Record 36 | punta arenas\n",
      "Processing Record 37 | ostrovnoy\n",
      "City not found. Skipping...\n",
      "Processing Record 38 | kieta\n",
      "Processing Record 39 | airai\n",
      "Processing Record 40 | cayenne\n",
      "Processing Record 41 | sapulpa\n",
      "Processing Record 42 | jamestown\n",
      "Processing Record 43 | inongo\n",
      "Processing Record 44 | marrakesh\n",
      "Processing Record 45 | gambela\n",
      "Processing Record 46 | arraial do cabo\n",
      "City not found. Skipping...\n",
      "Processing Record 47 | khatanga\n",
      "Processing Record 48 | yulara\n",
      "Processing Record 49 | potchefstroom\n",
      "Processing Record 50 | cherskiy\n",
      "Processing Record 51 | hamilton\n",
      "Processing Record 52 | talnakh\n",
      "Processing Record 53 | camacha\n",
      "Processing Record 54 | ushuaia\n",
      "Processing Record 55 | qaanaaq\n",
      "Processing Record 56 | pangnirtung\n",
      "Processing Record 57 | kidal\n",
      "Processing Record 58 | bambous virieux\n",
      "Processing Record 59 | albany\n",
      "Processing Record 60 | aguimes\n",
      "Processing Record 61 | deputatskiy\n",
      "Processing Record 62 | port hardy\n",
      "Processing Record 63 | batemans bay\n",
      "Processing Record 64 | yellowknife\n",
      "Processing Record 65 | iqaluit\n",
      "City not found. Skipping...\n",
      "Processing Record 66 | kavieng\n",
      "Processing Record 67 | puerto ayora\n",
      "Processing Record 68 | souillac\n",
      "Processing Record 69 | sao sebastiao do cai\n",
      "City not found. Skipping...\n",
      "City not found. Skipping...\n",
      "Processing Record 70 | castro\n",
      "Processing Record 71 | darab\n",
      "Processing Record 72 | cape town\n",
      "Processing Record 73 | arteaga\n",
      "Processing Record 74 | saint anthony\n",
      "Processing Record 75 | atar\n",
      "City not found. Skipping...\n",
      "Processing Record 76 | necochea\n",
      "Processing Record 77 | thinadhoo\n",
      "Processing Record 78 | kruisfontein\n",
      "Processing Record 79 | georgetown\n",
      "Processing Record 80 | victoria\n",
      "Processing Record 81 | mildura\n",
      "City not found. Skipping...\n",
      "Processing Record 82 | hermanus\n",
      "Processing Record 83 | ust-nera\n",
      "Processing Record 84 | cidreira\n",
      "Processing Record 85 | honiara\n",
      "Processing Record 86 | east london\n",
      "Processing Record 87 | pentecoste\n",
      "Processing Record 88 | roma\n",
      "Processing Record 89 | north bend\n",
      "Processing Record 90 | coolum beach\n",
      "Processing Record 91 | lasa\n",
      "Processing Record 92 | sikonge\n",
      "Processing Record 93 | shingu\n",
      "Processing Record 94 | barrow\n",
      "Processing Record 95 | ahipara\n",
      "Processing Record 96 | baykit\n",
      "Processing Record 97 | hilo\n",
      "Processing Record 98 | catazaja\n",
      "Processing Record 99 | butembo\n",
      "Processing Record 100 | riberalta\n",
      "Processing Record 101 | jieshi\n",
      "Processing Record 102 | dikson\n",
      "Processing Record 103 | bonavista\n",
      "Processing Record 104 | genhe\n",
      "Processing Record 105 | namibe\n",
      "Processing Record 106 | joensuu\n",
      "Processing Record 107 | safut\n",
      "Processing Record 108 | innisfail\n",
      "Processing Record 109 | megion\n",
      "Processing Record 110 | erdenet\n",
      "Processing Record 111 | okhotsk\n",
      "Processing Record 112 | vaitape\n",
      "Processing Record 113 | biak\n",
      "Processing Record 114 | teacapan\n",
      "Processing Record 115 | mercedes\n",
      "Processing Record 116 | fort-shevchenko\n",
      "Processing Record 117 | yamada\n",
      "Processing Record 118 | nikolskoye\n",
      "Processing Record 119 | mpika\n",
      "Processing Record 120 | saint-philippe\n",
      "Processing Record 121 | zhigansk\n",
      "Processing Record 122 | slyudyanka\n",
      "Processing Record 123 | yate\n",
      "Processing Record 124 | sangar\n",
      "Processing Record 125 | sterling\n",
      "Processing Record 126 | chokurdakh\n",
      "Processing Record 127 | port hedland\n",
      "Processing Record 128 | thompson\n",
      "Processing Record 129 | taoudenni\n",
      "Processing Record 130 | boyuibe\n",
      "Processing Record 131 | weymouth\n",
      "City not found. Skipping...\n",
      "Processing Record 132 | vila franca do campo\n",
      "Processing Record 133 | damietta\n",
      "Processing Record 134 | srednekolymsk\n",
      "Processing Record 135 | kaitangata\n",
      "Processing Record 136 | krasnyy yar\n",
      "City not found. Skipping...\n",
      "Processing Record 137 | lebu\n",
      "Processing Record 138 | namatanai\n",
      "Processing Record 139 | severo-kurilsk\n",
      "Processing Record 140 | pisco\n",
      "City not found. Skipping...\n",
      "City not found. Skipping...\n",
      "Processing Record 141 | harper\n",
      "Processing Record 142 | marawi\n",
      "Processing Record 143 | damghan\n",
      "Processing Record 144 | mehamn\n",
      "Processing Record 145 | tuktoyaktuk\n",
      "Processing Record 146 | bethel\n",
      "Processing Record 147 | cabo san lucas\n",
      "Processing Record 148 | port-gentil\n",
      "Processing Record 149 | saskylakh\n",
      "Processing Record 150 | kholmogory\n",
      "Processing Record 151 | pierre\n",
      "Processing Record 152 | bandrele\n",
      "Processing Record 153 | coralville\n",
      "Processing Record 154 | port elizabeth\n",
      "Processing Record 155 | sechura\n",
      "Processing Record 156 | poum\n",
      "Processing Record 157 | dezhou\n",
      "Processing Record 158 | pafos\n",
      "Processing Record 159 | provideniya\n",
      "Processing Record 160 | chara\n",
      "Processing Record 161 | ponta do sol\n",
      "Processing Record 162 | biltine\n",
      "Processing Record 163 | fortuna\n",
      "Processing Record 164 | oktyabrskiy\n",
      "Processing Record 165 | seoul\n",
      "Processing Record 166 | ribeira grande\n",
      "Processing Record 167 | saldanha\n",
      "City not found. Skipping...\n",
      "City not found. Skipping...\n",
      "Processing Record 168 | santo antonio do leverger\n",
      "Processing Record 169 | sabzevar\n",
      "Processing Record 170 | mar del plata\n",
      "Processing Record 171 | karatau\n",
      "Processing Record 172 | fourmies\n",
      "Processing Record 173 | vardo\n",
      "Processing Record 174 | meulaboh\n",
      "Processing Record 175 | koltubanovskiy\n",
      "Processing Record 176 | muskegon\n",
      "Processing Record 177 | aykhal\n",
      "Processing Record 178 | marmora\n",
      "Processing Record 179 | flinders\n",
      "Processing Record 180 | guerrero negro\n",
      "Processing Record 181 | luderitz\n",
      "Processing Record 182 | half moon bay\n",
      "Processing Record 183 | saint-augustin\n",
      "Processing Record 184 | faanui\n",
      "Processing Record 185 | kashi\n",
      "Processing Record 186 | umm lajj\n",
      "Processing Record 187 | botwood\n",
      "Processing Record 188 | ponta delgada\n",
      "Processing Record 189 | nome\n",
      "Processing Record 190 | vanimo\n",
      "Processing Record 191 | ilulissat\n",
      "Processing Record 192 | narsaq\n",
      "Processing Record 193 | shahr-e babak\n",
      "Processing Record 194 | fort nelson\n",
      "City not found. Skipping...\n",
      "Processing Record 195 | lagos\n",
      "Processing Record 196 | omboue\n",
      "Processing Record 197 | huilong\n",
      "Processing Record 198 | trairi\n",
      "City not found. Skipping...\n",
      "Processing Record 199 | srandakan\n",
      "Processing Record 200 | lima\n",
      "Processing Record 201 | itarema\n",
      "Processing Record 202 | vila\n",
      "Processing Record 203 | port lincoln\n",
      "Processing Record 204 | sorong\n",
      "City not found. Skipping...\n",
      "City not found. Skipping...\n",
      "Processing Record 205 | leningradskiy\n",
      "Processing Record 206 | maizuru\n",
      "Processing Record 207 | pevek\n",
      "Processing Record 208 | chernogolovka\n",
      "Processing Record 209 | takoradi\n",
      "Processing Record 210 | masterton\n",
      "Processing Record 211 | brae\n",
      "Processing Record 212 | numan\n",
      "Processing Record 213 | shanghai\n",
      "Processing Record 214 | bredasdorp\n",
      "Processing Record 215 | mitzic\n",
      "Processing Record 216 | makakilo city\n",
      "Processing Record 217 | kodiak\n",
      "Processing Record 218 | cairns\n",
      "Processing Record 219 | constitucion\n",
      "Processing Record 220 | sao filipe\n",
      "Processing Record 221 | labuhan\n",
      "City not found. Skipping...\n",
      "Processing Record 222 | san patricio\n",
      "Processing Record 223 | maniitsoq\n",
      "Processing Record 224 | tagburos\n",
      "Processing Record 225 | shimoda\n",
      "Processing Record 226 | chuy\n",
      "Processing Record 227 | lgov\n",
      "Processing Record 228 | grand gaube\n",
      "Processing Record 229 | atambua\n"
     ]
    },
    {
     "name": "stdout",
     "output_type": "stream",
     "text": [
      "Processing Record 230 | puro\n",
      "City not found. Skipping...\n",
      "Processing Record 231 | cockburn town\n",
      "Processing Record 232 | batticaloa\n",
      "Processing Record 233 | mayo\n",
      "Processing Record 234 | erenhot\n",
      "Processing Record 235 | uddevalla\n",
      "Processing Record 236 | vostok\n",
      "Processing Record 237 | orlovka\n",
      "Processing Record 238 | union\n",
      "Processing Record 239 | chekhov\n",
      "City not found. Skipping...\n",
      "Processing Record 240 | emerald\n",
      "Processing Record 241 | mogadishu\n",
      "Processing Record 242 | sao felix do xingu\n",
      "Processing Record 243 | tabuk\n",
      "Processing Record 244 | northam\n",
      "Processing Record 245 | jumilla\n",
      "Processing Record 246 | la paz\n",
      "City not found. Skipping...\n",
      "Processing Record 247 | staryy nadym\n",
      "Processing Record 248 | prince rupert\n",
      "Processing Record 249 | geraldton\n",
      "Processing Record 250 | touros\n",
      "Processing Record 251 | anito\n",
      "Processing Record 252 | nanortalik\n",
      "Processing Record 253 | vero beach\n",
      "Processing Record 254 | annau\n",
      "Processing Record 255 | xai-xai\n",
      "Processing Record 256 | lompoc\n",
      "Processing Record 257 | havoysund\n",
      "Processing Record 258 | koungheul\n",
      "Processing Record 259 | termoli\n",
      "Processing Record 260 | doha\n",
      "Processing Record 261 | praia da vitoria\n",
      "Processing Record 262 | lata\n",
      "Processing Record 263 | farsund\n",
      "Processing Record 264 | abeche\n",
      "Processing Record 265 | tuatapere\n",
      "Processing Record 266 | namanga\n",
      "Processing Record 267 | riyadh\n",
      "City not found. Skipping...\n",
      "Processing Record 268 | mayumba\n",
      "Processing Record 269 | college\n",
      "Processing Record 270 | ancud\n",
      "Processing Record 271 | nishihara\n",
      "Processing Record 272 | nelson bay\n",
      "Processing Record 273 | merauke\n",
      "Processing Record 274 | burnie\n",
      "Processing Record 275 | port dover\n",
      "Processing Record 276 | messancy\n",
      "Processing Record 277 | tilichiki\n",
      "Processing Record 278 | padang\n",
      "Processing Record 279 | nemuro\n",
      "Processing Record 280 | hualmay\n",
      "Processing Record 281 | coihaique\n",
      "Processing Record 282 | easton\n",
      "Processing Record 283 | montrose\n",
      "Processing Record 284 | fairbanks\n",
      "Processing Record 285 | berlevag\n",
      "Processing Record 286 | warmbad\n",
      "Processing Record 287 | manggar\n",
      "Processing Record 288 | luanda\n",
      "Processing Record 289 | portland\n",
      "Processing Record 290 | tiksi\n",
      "City not found. Skipping...\n",
      "Processing Record 291 | los llanos de aridane\n",
      "Processing Record 292 | qom\n",
      "Processing Record 293 | sitka\n",
      "Processing Record 294 | belyy yar\n",
      "Processing Record 295 | upernavik\n",
      "Processing Record 296 | pimenta bueno\n",
      "City not found. Skipping...\n",
      "Processing Record 297 | katsuura\n",
      "Processing Record 298 | bakchar\n",
      "Processing Record 299 | staffanstorp\n",
      "Processing Record 300 | margate\n",
      "Processing Record 301 | trabzon\n",
      "Processing Record 302 | auki\n",
      "Processing Record 303 | viedma\n",
      "Processing Record 304 | teberda\n",
      "Processing Record 305 | karratha\n",
      "Processing Record 306 | bengkulu\n",
      "Processing Record 307 | pacific grove\n",
      "Processing Record 308 | tarabuco\n",
      "Processing Record 309 | nyurba\n",
      "Processing Record 310 | lethem\n",
      "Processing Record 311 | christchurch\n",
      "Processing Record 312 | faya\n",
      "Processing Record 313 | asau\n",
      "City not found. Skipping...\n",
      "Processing Record 314 | high level\n",
      "Processing Record 315 | ambilobe\n",
      "Processing Record 316 | kahului\n",
      "Processing Record 317 | kirakira\n",
      "Processing Record 318 | seinajoki\n",
      "Processing Record 319 | isangel\n",
      "Processing Record 320 | kokoda\n",
      "Processing Record 321 | verkhnevilyuysk\n",
      "Processing Record 322 | mwaro\n",
      "Processing Record 323 | venado tuerto\n",
      "Processing Record 324 | batagay-alyta\n",
      "Processing Record 325 | tottori\n",
      "Processing Record 326 | trenggalek\n",
      "Processing Record 327 | alexandria\n",
      "Processing Record 328 | moindou\n",
      "Processing Record 329 | troitsko-pechorsk\n",
      "Processing Record 330 | maudaha\n",
      "Processing Record 331 | bubaque\n",
      "City not found. Skipping...\n",
      "Processing Record 332 | alyangula\n",
      "Processing Record 333 | celakovice\n",
      "Processing Record 334 | pittsburg\n",
      "Processing Record 335 | praya\n",
      "Processing Record 336 | juneau\n",
      "Processing Record 337 | denpasar\n",
      "Processing Record 338 | carnarvon\n",
      "Processing Record 339 | odweyne\n",
      "Processing Record 340 | grindavik\n",
      "Processing Record 341 | guasdualito\n",
      "Processing Record 342 | manicore\n",
      "Processing Record 343 | buraydah\n",
      "Processing Record 344 | koumac\n",
      "Processing Record 345 | kentau\n",
      "City not found. Skipping...\n",
      "Processing Record 346 | nouakchott\n",
      "Processing Record 347 | bulgan\n",
      "Processing Record 348 | clyde river\n",
      "Processing Record 349 | zinapecuaro\n",
      "Processing Record 350 | kiruna\n",
      "Processing Record 351 | longyearbyen\n",
      "City not found. Skipping...\n",
      "Processing Record 352 | altamont\n",
      "Processing Record 353 | klaksvik\n",
      "Processing Record 354 | lorengau\n",
      "Processing Record 355 | mkuranga\n",
      "City not found. Skipping...\n",
      "Processing Record 356 | aanekoski\n",
      "Processing Record 357 | muros\n",
      "Processing Record 358 | sayyan\n",
      "Processing Record 359 | raudeberg\n",
      "Processing Record 360 | plyussa\n",
      "City not found. Skipping...\n",
      "Processing Record 361 | taclobo\n",
      "Processing Record 362 | nalut\n",
      "Processing Record 363 | itarare\n",
      "Processing Record 364 | majene\n",
      "Processing Record 365 | warendorf\n",
      "Processing Record 366 | blackwater\n",
      "Processing Record 367 | dubbo\n",
      "Processing Record 368 | along\n",
      "Processing Record 369 | talara\n",
      "Processing Record 370 | tautira\n",
      "Processing Record 371 | tateyama\n",
      "Processing Record 372 | aswan\n",
      "Processing Record 373 | sakakah\n",
      "Processing Record 374 | tazovskiy\n",
      "Processing Record 375 | harindanga\n",
      "City not found. Skipping...\n",
      "City not found. Skipping...\n",
      "Processing Record 376 | loandjili\n",
      "Processing Record 377 | rockland\n",
      "Processing Record 378 | khomeyn\n",
      "Processing Record 379 | craig\n",
      "Processing Record 380 | george\n",
      "Processing Record 381 | turukhansk\n",
      "Processing Record 382 | andenes\n",
      "Processing Record 383 | sinnamary\n",
      "Processing Record 384 | jumla\n",
      "Processing Record 385 | morondava\n",
      "Processing Record 386 | carbonia\n",
      "Processing Record 387 | sao joao da barra\n",
      "City not found. Skipping...\n",
      "Processing Record 388 | urazovo\n",
      "Processing Record 389 | anchorage\n",
      "Processing Record 390 | praia\n",
      "Processing Record 391 | khuzdar\n",
      "Processing Record 392 | sistranda\n",
      "Processing Record 393 | vila velha\n",
      "Processing Record 394 | angoram\n",
      "Processing Record 395 | beloha\n",
      "Processing Record 396 | jalu\n",
      "City not found. Skipping...\n",
      "Processing Record 397 | iskateley\n",
      "Processing Record 398 | kerur\n",
      "Processing Record 399 | krapivinskiy\n",
      "Processing Record 400 | sonoita\n",
      "City not found. Skipping...\n",
      "Processing Record 401 | lagoa\n",
      "Processing Record 402 | san jeronimo\n",
      "City not found. Skipping...\n",
      "Processing Record 403 | nicolas bravo\n",
      "Processing Record 404 | kavaratti\n",
      "Processing Record 405 | muana\n",
      "Processing Record 406 | bathsheba\n",
      "Processing Record 407 | tanah merah\n",
      "City not found. Skipping...\n",
      "Processing Record 408 | duartina\n",
      "Processing Record 409 | le vauclin\n",
      "Processing Record 410 | marsh harbour\n",
      "Processing Record 411 | sibolga\n",
      "Processing Record 412 | tommot\n",
      "Processing Record 413 | ta khmau\n",
      "Processing Record 414 | mahanoro\n",
      "Processing Record 415 | birao\n",
      "Processing Record 416 | chute-aux-outardes\n",
      "Processing Record 417 | alice springs\n",
      "Processing Record 418 | port macquarie\n",
      "Processing Record 419 | hailar\n",
      "Processing Record 420 | manzanillo\n",
      "Processing Record 421 | maxixe\n",
      "Processing Record 422 | adelaide\n",
      "City not found. Skipping...\n",
      "Processing Record 423 | acarau\n",
      "Processing Record 424 | polyarnyy\n",
      "City not found. Skipping...\n",
      "Processing Record 425 | sora\n",
      "Processing Record 426 | rexburg\n",
      "Processing Record 427 | san jose\n",
      "Processing Record 428 | cap-aux-meules\n",
      "Processing Record 429 | bulolo\n",
      "Processing Record 430 | san juan de abajo\n",
      "Processing Record 431 | te anau\n",
      "Processing Record 432 | salta\n",
      "Processing Record 433 | fort abbas\n",
      "City not found. Skipping...\n",
      "Processing Record 434 | ishigaki\n",
      "Processing Record 435 | ngama\n",
      "Processing Record 436 | khowst\n",
      "Processing Record 437 | kamenka\n",
      "Processing Record 438 | caxhuacan\n",
      "Processing Record 439 | kulautuva\n",
      "Processing Record 440 | komsomolskiy\n",
      "Processing Record 441 | ambovombe\n",
      "Processing Record 442 | yining\n",
      "Processing Record 443 | rakai\n",
      "Processing Record 444 | ghanzi\n",
      "Processing Record 445 | paamiut\n",
      "Processing Record 446 | caxito\n",
      "Processing Record 447 | kalmar\n",
      "Processing Record 448 | atbasar\n",
      "Processing Record 449 | ban dung\n",
      "Processing Record 450 | mahenge\n",
      "Processing Record 451 | vilanova del cami\n",
      "Processing Record 452 | pundaguitan\n",
      "Processing Record 453 | washington\n",
      "Processing Record 454 | jadu\n",
      "Processing Record 455 | porto novo\n",
      "Processing Record 456 | moskovskoye\n",
      "Processing Record 457 | pacifica\n",
      "Processing Record 458 | qaqortoq\n",
      "Processing Record 459 | avera\n"
     ]
    },
    {
     "name": "stdout",
     "output_type": "stream",
     "text": [
      "Processing Record 460 | manono\n",
      "Processing Record 461 | zaysan\n",
      "Processing Record 462 | vidim\n",
      "Processing Record 463 | colares\n",
      "Processing Record 464 | zhob\n",
      "Processing Record 465 | kikwit\n",
      "Processing Record 466 | miram shah\n",
      "Processing Record 467 | sibu\n",
      "Processing Record 468 | san andres\n",
      "City not found. Skipping...\n",
      "Processing Record 469 | hinesville\n",
      "Processing Record 470 | vestmannaeyjar\n",
      "City not found. Skipping...\n",
      "Processing Record 471 | port blair\n",
      "Processing Record 472 | calama\n",
      "Processing Record 473 | neiafu\n",
      "Processing Record 474 | viseu\n",
      "Processing Record 475 | santiago\n",
      "Processing Record 476 | springbok\n",
      "Processing Record 477 | ingleside\n",
      "Processing Record 478 | la pintada\n",
      "City not found. Skipping...\n",
      "Processing Record 479 | waipawa\n",
      "Processing Record 480 | manado\n",
      "Processing Record 481 | bonthe\n",
      "Processing Record 482 | matara\n",
      "Processing Record 483 | lashio\n",
      "Processing Record 484 | broome\n",
      "Processing Record 485 | mahon\n",
      "Processing Record 486 | awjilah\n",
      "Processing Record 487 | camapua\n",
      "Processing Record 488 | manadhoo\n",
      "Processing Record 489 | lucapa\n",
      "Processing Record 490 | thanh hoa\n",
      "Processing Record 491 | ginda\n",
      "Processing Record 492 | black river\n",
      "Processing Record 493 | neyyattinkara\n",
      "Processing Record 494 | veraval\n",
      "Processing Record 495 | tocopilla\n",
      "Processing Record 496 | rio gallegos\n",
      "City not found. Skipping...\n",
      "Processing Record 497 | kamaishi\n",
      "Processing Record 498 | grootfontein\n",
      "Processing Record 499 | antalaha\n",
      "Processing Record 500 | palana\n",
      "Processing Record 501 | minot\n",
      "Processing Record 502 | sheridan\n",
      "Processing Record 503 | kawalu\n",
      "Processing Record 504 | yeppoon\n",
      "Processing Record 505 | xinqing\n",
      "Processing Record 506 | iskitim\n",
      "Processing Record 507 | wanning\n",
      "Processing Record 508 | beyneu\n",
      "Processing Record 509 | tadine\n",
      "Processing Record 510 | svay rieng\n",
      "Processing Record 511 | shenzhen\n",
      "Processing Record 512 | ialibu\n",
      "City not found. Skipping...\n",
      "Processing Record 513 | iguape\n",
      "City not found. Skipping...\n",
      "Processing Record 514 | adwa\n",
      "Processing Record 515 | esna\n",
      "Processing Record 516 | defiance\n",
      "City not found. Skipping...\n",
      "City not found. Skipping...\n",
      "Processing Record 517 | pathein\n",
      "Processing Record 518 | astoria\n",
      "Processing Record 519 | coxim\n",
      "Processing Record 520 | brigantine\n",
      "Processing Record 521 | campbell river\n",
      "Processing Record 522 | marystown\n",
      "Processing Record 523 | lazi\n",
      "Processing Record 524 | broken hill\n",
      "Processing Record 525 | bontang\n",
      "Processing Record 526 | kudahuvadhoo\n",
      "Processing Record 527 | uribia\n",
      "Processing Record 528 | goleniow\n",
      "Processing Record 529 | caravelas\n",
      "Processing Record 530 | conceicao do araguaia\n",
      "Processing Record 531 | chapais\n",
      "Processing Record 532 | vanavara\n",
      "City not found. Skipping...\n",
      "Processing Record 533 | baruun-urt\n",
      "Processing Record 534 | kapit\n",
      "Processing Record 535 | acurenam\n",
      "Processing Record 536 | parana\n",
      "City not found. Skipping...\n",
      "------------------------------\n",
      "Data Retrieval Complete\n",
      "------------------------------\n"
     ]
    }
   ],
   "source": [
    "#create base url and url variable\n",
    "url = \"http://api.openweathermap.org/data/2.5/weather?\"\n",
    "units = \"imperial\"\n",
    "#build query \n",
    "query = f\"{url}appid={weather_api_key}&units={units}&q=\"\n",
    "\n",
    "record_number = 1\n",
    "\n",
    "lat = []\n",
    "lng = []\n",
    "temp = []\n",
    "max_temp = []\n",
    "humid = []\n",
    "cloud = []\n",
    "wind_speed = []\n",
    "found_city = []\n",
    "country = []\n",
    "\n",
    "print(f'Beginning Data Retrieval')\n",
    "print(f'------------------------------')\n",
    "\n",
    "for city in cities:\n",
    "\n",
    "    try:\n",
    "        city_data = (requests.get(query + city)).json()\n",
    "        lat.append(city_data[\"coord\"][\"lat\"])\n",
    "        lng.append(city_data[\"coord\"][\"lon\"])\n",
    "        temp.append(city_data[\"main\"][\"temp\"])\n",
    "        max_temp.append(city_data[\"main\"][\"temp_max\"])\n",
    "        humid.append(city_data[\"main\"][\"humidity\"])\n",
    "        wind_speed.append(city_data[\"wind\"][\"speed\"])\n",
    "        cloud.append(city_data[\"clouds\"][\"all\"])\n",
    "        found_city.append(city_data[\"name\"])\n",
    "        country.append(city_data[\"sys\"][\"country\"])\n",
    "        print(f'Processing Record {record_number} | {city}')\n",
    "        record_number = record_number + 1\n",
    "    \n",
    "    except KeyError:\n",
    "        print(f'City not found. Skipping...')\n",
    "  \n",
    "print(f'------------------------------')\n",
    "print(f'Data Retrieval Complete')\n",
    "print(f'------------------------------')"
   ]
  },
  {
   "cell_type": "markdown",
   "metadata": {},
   "source": [
    "### Convert Raw Data to DataFrame\n",
    "* Export the city data into a .csv.\n",
    "* Display the DataFrame"
   ]
  },
  {
   "cell_type": "code",
   "execution_count": 50,
   "metadata": {},
   "outputs": [
    {
     "data": {
      "text/html": [
       "<div>\n",
       "<style scoped>\n",
       "    .dataframe tbody tr th:only-of-type {\n",
       "        vertical-align: middle;\n",
       "    }\n",
       "\n",
       "    .dataframe tbody tr th {\n",
       "        vertical-align: top;\n",
       "    }\n",
       "\n",
       "    .dataframe thead th {\n",
       "        text-align: right;\n",
       "    }\n",
       "</style>\n",
       "<table border=\"1\" class=\"dataframe\">\n",
       "  <thead>\n",
       "    <tr style=\"text-align: right;\">\n",
       "      <th></th>\n",
       "      <th>City</th>\n",
       "      <th>Lat</th>\n",
       "      <th>Lng</th>\n",
       "      <th>Temp</th>\n",
       "      <th>Max Temp</th>\n",
       "      <th>Humidity</th>\n",
       "      <th>Cloudiness</th>\n",
       "      <th>Wind Speed</th>\n",
       "      <th>Country</th>\n",
       "    </tr>\n",
       "  </thead>\n",
       "  <tbody>\n",
       "    <tr>\n",
       "      <th>0</th>\n",
       "      <td>Bluff</td>\n",
       "      <td>-46.6000</td>\n",
       "      <td>168.3333</td>\n",
       "      <td>54.00</td>\n",
       "      <td>54.00</td>\n",
       "      <td>90</td>\n",
       "      <td>72</td>\n",
       "      <td>3.00</td>\n",
       "      <td>NZ</td>\n",
       "    </tr>\n",
       "    <tr>\n",
       "      <th>1</th>\n",
       "      <td>Lagan</td>\n",
       "      <td>45.3929</td>\n",
       "      <td>47.3707</td>\n",
       "      <td>55.47</td>\n",
       "      <td>55.47</td>\n",
       "      <td>69</td>\n",
       "      <td>59</td>\n",
       "      <td>0.98</td>\n",
       "      <td>RU</td>\n",
       "    </tr>\n",
       "    <tr>\n",
       "      <th>2</th>\n",
       "      <td>Esperance</td>\n",
       "      <td>-33.8667</td>\n",
       "      <td>121.9000</td>\n",
       "      <td>50.00</td>\n",
       "      <td>50.00</td>\n",
       "      <td>87</td>\n",
       "      <td>0</td>\n",
       "      <td>6.91</td>\n",
       "      <td>AU</td>\n",
       "    </tr>\n",
       "    <tr>\n",
       "      <th>3</th>\n",
       "      <td>Hasaki</td>\n",
       "      <td>35.7333</td>\n",
       "      <td>140.8333</td>\n",
       "      <td>49.14</td>\n",
       "      <td>51.80</td>\n",
       "      <td>43</td>\n",
       "      <td>20</td>\n",
       "      <td>6.91</td>\n",
       "      <td>JP</td>\n",
       "    </tr>\n",
       "    <tr>\n",
       "      <th>4</th>\n",
       "      <td>Port Alfred</td>\n",
       "      <td>-33.5906</td>\n",
       "      <td>26.8910</td>\n",
       "      <td>75.20</td>\n",
       "      <td>75.20</td>\n",
       "      <td>37</td>\n",
       "      <td>0</td>\n",
       "      <td>6.98</td>\n",
       "      <td>ZA</td>\n",
       "    </tr>\n",
       "  </tbody>\n",
       "</table>\n",
       "</div>"
      ],
      "text/plain": [
       "          City      Lat       Lng   Temp  Max Temp  Humidity  Cloudiness  \\\n",
       "0        Bluff -46.6000  168.3333  54.00     54.00        90          72   \n",
       "1        Lagan  45.3929   47.3707  55.47     55.47        69          59   \n",
       "2    Esperance -33.8667  121.9000  50.00     50.00        87           0   \n",
       "3       Hasaki  35.7333  140.8333  49.14     51.80        43          20   \n",
       "4  Port Alfred -33.5906   26.8910  75.20     75.20        37           0   \n",
       "\n",
       "   Wind Speed Country  \n",
       "0        3.00      NZ  \n",
       "1        0.98      RU  \n",
       "2        6.91      AU  \n",
       "3        6.91      JP  \n",
       "4        6.98      ZA  "
      ]
     },
     "execution_count": 50,
     "metadata": {},
     "output_type": "execute_result"
    }
   ],
   "source": [
    "dict = {\"City\" : found_city, \n",
    "        \"Lat\" : lat, \n",
    "        \"Lng\" : lng, \n",
    "        \"Temp\" : temp,\n",
    "        \"Max Temp\" : max_temp,\n",
    "        \"Humidity\" : humid, \n",
    "        \"Cloudiness\" : cloud, \n",
    "        \"Wind Speed\" : wind_speed, \n",
    "        \"Country\" : country}\n",
    "weather_df = pd.DataFrame(dict)\n",
    "\n",
    "weather_df.to_csv(\"cities.csv\")\n",
    "weather_df.head()"
   ]
  },
  {
   "cell_type": "code",
   "execution_count": 51,
   "metadata": {},
   "outputs": [
    {
     "data": {
      "text/html": [
       "<div>\n",
       "<style scoped>\n",
       "    .dataframe tbody tr th:only-of-type {\n",
       "        vertical-align: middle;\n",
       "    }\n",
       "\n",
       "    .dataframe tbody tr th {\n",
       "        vertical-align: top;\n",
       "    }\n",
       "\n",
       "    .dataframe thead th {\n",
       "        text-align: right;\n",
       "    }\n",
       "</style>\n",
       "<table border=\"1\" class=\"dataframe\">\n",
       "  <thead>\n",
       "    <tr style=\"text-align: right;\">\n",
       "      <th></th>\n",
       "      <th>Lat</th>\n",
       "      <th>Lng</th>\n",
       "      <th>Temp</th>\n",
       "      <th>Max Temp</th>\n",
       "      <th>Humidity</th>\n",
       "      <th>Cloudiness</th>\n",
       "      <th>Wind Speed</th>\n",
       "    </tr>\n",
       "  </thead>\n",
       "  <tbody>\n",
       "    <tr>\n",
       "      <th>count</th>\n",
       "      <td>536.000000</td>\n",
       "      <td>536.000000</td>\n",
       "      <td>536.000000</td>\n",
       "      <td>536.000000</td>\n",
       "      <td>536.000000</td>\n",
       "      <td>536.000000</td>\n",
       "      <td>536.000000</td>\n",
       "    </tr>\n",
       "    <tr>\n",
       "      <th>mean</th>\n",
       "      <td>18.901521</td>\n",
       "      <td>21.277146</td>\n",
       "      <td>60.087146</td>\n",
       "      <td>60.714869</td>\n",
       "      <td>67.682836</td>\n",
       "      <td>50.925373</td>\n",
       "      <td>7.748675</td>\n",
       "    </tr>\n",
       "    <tr>\n",
       "      <th>std</th>\n",
       "      <td>33.200397</td>\n",
       "      <td>90.421552</td>\n",
       "      <td>21.338451</td>\n",
       "      <td>21.399062</td>\n",
       "      <td>23.318762</td>\n",
       "      <td>39.731788</td>\n",
       "      <td>5.076569</td>\n",
       "    </tr>\n",
       "    <tr>\n",
       "      <th>min</th>\n",
       "      <td>-54.800000</td>\n",
       "      <td>-175.200000</td>\n",
       "      <td>-17.590000</td>\n",
       "      <td>-17.590000</td>\n",
       "      <td>6.000000</td>\n",
       "      <td>0.000000</td>\n",
       "      <td>0.250000</td>\n",
       "    </tr>\n",
       "    <tr>\n",
       "      <th>25%</th>\n",
       "      <td>-8.431075</td>\n",
       "      <td>-57.830675</td>\n",
       "      <td>47.867500</td>\n",
       "      <td>48.200000</td>\n",
       "      <td>52.000000</td>\n",
       "      <td>8.000000</td>\n",
       "      <td>3.710000</td>\n",
       "    </tr>\n",
       "    <tr>\n",
       "      <th>50%</th>\n",
       "      <td>22.180350</td>\n",
       "      <td>24.696800</td>\n",
       "      <td>64.010000</td>\n",
       "      <td>64.525000</td>\n",
       "      <td>74.000000</td>\n",
       "      <td>49.000000</td>\n",
       "      <td>6.910000</td>\n",
       "    </tr>\n",
       "    <tr>\n",
       "      <th>75%</th>\n",
       "      <td>46.249250</td>\n",
       "      <td>103.328375</td>\n",
       "      <td>76.747500</td>\n",
       "      <td>77.000000</td>\n",
       "      <td>87.000000</td>\n",
       "      <td>93.000000</td>\n",
       "      <td>10.397500</td>\n",
       "    </tr>\n",
       "    <tr>\n",
       "      <th>max</th>\n",
       "      <td>78.218600</td>\n",
       "      <td>178.416700</td>\n",
       "      <td>94.190000</td>\n",
       "      <td>95.000000</td>\n",
       "      <td>100.000000</td>\n",
       "      <td>100.000000</td>\n",
       "      <td>27.450000</td>\n",
       "    </tr>\n",
       "  </tbody>\n",
       "</table>\n",
       "</div>"
      ],
      "text/plain": [
       "              Lat         Lng        Temp    Max Temp    Humidity  Cloudiness  \\\n",
       "count  536.000000  536.000000  536.000000  536.000000  536.000000  536.000000   \n",
       "mean    18.901521   21.277146   60.087146   60.714869   67.682836   50.925373   \n",
       "std     33.200397   90.421552   21.338451   21.399062   23.318762   39.731788   \n",
       "min    -54.800000 -175.200000  -17.590000  -17.590000    6.000000    0.000000   \n",
       "25%     -8.431075  -57.830675   47.867500   48.200000   52.000000    8.000000   \n",
       "50%     22.180350   24.696800   64.010000   64.525000   74.000000   49.000000   \n",
       "75%     46.249250  103.328375   76.747500   77.000000   87.000000   93.000000   \n",
       "max     78.218600  178.416700   94.190000   95.000000  100.000000  100.000000   \n",
       "\n",
       "       Wind Speed  \n",
       "count  536.000000  \n",
       "mean     7.748675  \n",
       "std      5.076569  \n",
       "min      0.250000  \n",
       "25%      3.710000  \n",
       "50%      6.910000  \n",
       "75%     10.397500  \n",
       "max     27.450000  "
      ]
     },
     "execution_count": 51,
     "metadata": {},
     "output_type": "execute_result"
    }
   ],
   "source": [
    "weather_df.describe()"
   ]
  },
  {
   "cell_type": "markdown",
   "metadata": {},
   "source": [
    "## Inspect the data and remove the cities where the humidity > 100%.\n",
    "----\n",
    "Skip this step if there are no cities that have humidity > 100%. "
   ]
  },
  {
   "cell_type": "code",
   "execution_count": 33,
   "metadata": {},
   "outputs": [],
   "source": [
    "#Our max humidity is 100%. There is no humidity greater than 100% in my Data Frame. Skipping step"
   ]
  },
  {
   "cell_type": "code",
   "execution_count": 34,
   "metadata": {},
   "outputs": [],
   "source": [
    "#  Get the indices of cities that have humidity over 100%.\n",
    "#not applicable"
   ]
  },
  {
   "cell_type": "code",
   "execution_count": 35,
   "metadata": {},
   "outputs": [],
   "source": [
    "# Make a new DataFrame equal to the city data to drop all humidity outliers by index.\n",
    "# Passing \"inplace=False\" will make a copy of the city_data DataFrame, which we call \"clean_city_data\".\n",
    "#not applicable "
   ]
  },
  {
   "cell_type": "markdown",
   "metadata": {},
   "source": [
    "## Plotting the Data\n",
    "* Use proper labeling of the plots using plot titles (including date of analysis) and axes labels.\n",
    "* Save the plotted figures as .pngs."
   ]
  },
  {
   "cell_type": "markdown",
   "metadata": {},
   "source": [
    "## Latitude vs. Temperature Plot"
   ]
  },
  {
   "cell_type": "code",
   "execution_count": 52,
   "metadata": {
    "scrolled": true
   },
   "outputs": [
    {
     "data": {
      "image/png": "[encoded data removed]",
      "text/plain": [
       "<Figure size 432x288 with 1 Axes>"
      ]
     },
     "metadata": {
      "needs_background": "light"
     },
     "output_type": "display_data"
    }
   ],
   "source": [
    "plt.scatter(weather_df[\"Temp\"], weather_df[\"Lat\"], marker = \"o\")\n",
    "\n",
    "plt.title(\"Latitude vs. Temperature\")\n",
    "plt.ylabel(\"Temperature (F)\")\n",
    "plt.xlabel(\"Latitude\")\n",
    "plt.grid(True)\n",
    "\n",
    "# Save the figure\n",
    "plt.savefig(\"LatitudevsTemp.png\")\n",
    "\n",
    "# Show plot\n",
    "plt.show()"
   ]
  },
  {
   "cell_type": "markdown",
   "metadata": {},
   "source": [
    "## Latitude vs. Humidity Plot"
   ]
  },
  {
   "cell_type": "code",
   "execution_count": 53,
   "metadata": {},
   "outputs": [
    {
     "data": {
      "image/png": "[encoded data removed]",
      "text/plain": [
       "<Figure size 432x288 with 1 Axes>"
      ]
     },
     "metadata": {
      "needs_background": "light"
     },
     "output_type": "display_data"
    }
   ],
   "source": [
    "plt.scatter(weather_df[\"Lat\"], weather_df[\"Humidity\"], marker = \"o\")\n",
    "\n",
    "plt.title(\"Latitude vs. Humidity\")\n",
    "plt.ylabel(\"Humidity (%)\")\n",
    "plt.xlabel(\"Latitude\")\n",
    "plt.grid(True)\n",
    "\n",
    "# Save the figure\n",
    "plt.savefig(\"LatitudevsHumid.png\")\n",
    "\n",
    "# Show plot\n",
    "plt.show()"
   ]
  },
  {
   "cell_type": "markdown",
   "metadata": {},
   "source": [
    "## Latitude vs. Cloudiness Plot"
   ]
  },
  {
   "cell_type": "code",
   "execution_count": 54,
   "metadata": {},
   "outputs": [
    {
     "data": {
      "image/png": "[encoded data removed]",
      "text/plain": [
       "<Figure size 432x288 with 1 Axes>"
      ]
     },
     "metadata": {
      "needs_background": "light"
     },
     "output_type": "display_data"
    }
   ],
   "source": [
    "plt.scatter(weather_df[\"Lat\"], weather_df[\"Cloudiness\"], marker = \"o\")\n",
    "\n",
    "plt.title(\"Latitude vs. Cloudiness\")\n",
    "plt.ylabel(\"Cloudiness (%)\")\n",
    "plt.xlabel(\"Latitude\")\n",
    "plt.grid(True)\n",
    "\n",
    "# Save the figure\n",
    "plt.savefig(\"LatitudevsCloud.png\")\n",
    "\n",
    "# Show plot\n",
    "plt.show()"
   ]
  },
  {
   "cell_type": "markdown",
   "metadata": {},
   "source": [
    "## Latitude vs. Wind Speed Plot"
   ]
  },
  {
   "cell_type": "code",
   "execution_count": 55,
   "metadata": {},
   "outputs": [
    {
     "data": {
      "image/png": "[encoded data removed]",
      "text/plain": [
       "<Figure size 432x288 with 1 Axes>"
      ]
     },
     "metadata": {
      "needs_background": "light"
     },
     "output_type": "display_data"
    }
   ],
   "source": [
    "plt.scatter(weather_df[\"Lat\"], weather_df[\"Wind Speed\"], marker = \"o\")\n",
    "\n",
    "plt.title(\"Latitude vs. Wind Speed\")\n",
    "plt.ylabel(\"Wind Speed (mph)\")\n",
    "plt.xlabel(\"Latitude\")\n",
    "plt.grid(True)\n",
    "\n",
    "# Save the figure\n",
    "plt.savefig(\"LatitudevsWind.png\")\n",
    "\n",
    "# Show plot\n",
    "plt.show()"
   ]
  },
  {
   "cell_type": "markdown",
   "metadata": {},
   "source": [
    "## Linear Regression"
   ]
  },
  {
   "cell_type": "code",
   "execution_count": 56,
   "metadata": {},
   "outputs": [],
   "source": [
    "#filter the northern and southern hemisphere\n",
    "northern_hemi = weather_df[\"Lat\"]>= 0\n",
    "northern_df = weather_df[northern_hemi]\n",
    "southern_hemi = weather_df[\"Lat\"] < 0\n",
    "southern_df = weather_df[southern_hemi]"
   ]
  },
  {
   "cell_type": "markdown",
   "metadata": {},
   "source": [
    "####  Northern Hemisphere - Max Temp vs. Latitude Linear Regression"
   ]
  },
  {
   "cell_type": "code",
   "execution_count": 65,
   "metadata": {},
   "outputs": [
    {
     "name": "stdout",
     "output_type": "stream",
     "text": [
      "The r-value is: -0.8411826179251076\n"
     ]
    },
    {
     "data": {
      "image/png": "[encoded data removed]",
      "text/plain": [
       "<Figure size 432x288 with 1 Axes>"
      ]
     },
     "metadata": {
      "needs_background": "light"
     },
     "output_type": "display_data"
    }
   ],
   "source": [
    "(slope, intercept, rvalue, pvalue, stderr) = linregress(northern_df[\"Lat\"], northern_df[\"Max Temp\"])\n",
    "regress_values = northern_df[\"Lat\"] * slope + intercept\n",
    "line_eq = \"y = \" + str(round(slope,2)) + \"x + \" + str(round(intercept,2))\n",
    "plt.scatter(northern_df[\"Lat\"], northern_df[\"Max Temp\"], marker = \"o\")\n",
    "plt.plot(northern_df[\"Lat\"],regress_values,\"r-\")\n",
    "plt.ylabel(\"Max Temp\")\n",
    "plt.xlabel(\"Latitude\")\n",
    "plt.annotate(line_eq,(0,-20),fontsize=15,color=\"red\")\n",
    "\n",
    "# Save the figure\n",
    "plt.savefig(\"MaxTempvsLatLRnorth.png\")\n",
    "#print r-value\n",
    "print(f\"The r-value is: {rvalue}\")\n",
    "# Show plot\n",
    "plt.show()"
   ]
  },
  {
   "cell_type": "markdown",
   "metadata": {},
   "source": [
    "####  Southern Hemisphere - Max Temp vs. Latitude Linear Regression"
   ]
  },
  {
   "cell_type": "code",
   "execution_count": 72,
   "metadata": {},
   "outputs": [
    {
     "name": "stdout",
     "output_type": "stream",
     "text": [
      "The r-value is: 0.5819248097069671\n"
     ]
    },
    {
     "data": {
      "image/png": "[encoded data removed]",
      "text/plain": [
       "<Figure size 432x288 with 1 Axes>"
      ]
     },
     "metadata": {
      "needs_background": "light"
     },
     "output_type": "display_data"
    }
   ],
   "source": [
    "(slope, intercept, rvalue, pvalue, stderr) = linregress(southern_df[\"Lat\"], southern_df[\"Max Temp\"])\n",
    "regress_values = southern_df[\"Lat\"] * slope + intercept\n",
    "line_eq = \"y = \" + str(round(slope,2)) + \"x + \" + str(round(intercept,2))\n",
    "plt.scatter(southern_df[\"Lat\"], southern_df[\"Max Temp\"], marker = \"o\")\n",
    "plt.plot(southern_df[\"Lat\"],regress_values,\"r-\")\n",
    "plt.ylabel(\"Max Temp\")\n",
    "plt.xlabel(\"Latitude\")\n",
    "plt.annotate(line_eq,(-55,89),fontsize=15,color=\"red\")\n",
    "\n",
    "# Save the figure\n",
    "plt.savefig(\"MaxTempvsLatLRsouth.png\")\n",
    "#print r-value\n",
    "print(f\"The r-value is: {rvalue}\")\n",
    "# Show plot\n",
    "plt.show()"
   ]
  },
  {
   "cell_type": "markdown",
   "metadata": {},
   "source": [
    "####  Northern Hemisphere - Humidity (%) vs. Latitude Linear Regression"
   ]
  },
  {
   "cell_type": "code",
   "execution_count": 77,
   "metadata": {},
   "outputs": [
    {
     "name": "stdout",
     "output_type": "stream",
     "text": [
      "The r-value is: 0.14825671326855086\n"
     ]
    },
    {
     "data": {
      "image/png": "[encoded data removed]",
      "text/plain": [
       "<Figure size 432x288 with 1 Axes>"
      ]
     },
     "metadata": {
      "needs_background": "light"
     },
     "output_type": "display_data"
    }
   ],
   "source": [
    "(slope, intercept, rvalue, pvalue, stderr) = linregress(northern_df[\"Lat\"], northern_df[\"Humidity\"])\n",
    "regress_values = northern_df[\"Lat\"] * slope + intercept\n",
    "line_eq = \"y = \" + str(round(slope,2)) + \"x + \" + str(round(intercept,2))\n",
    "plt.scatter(northern_df[\"Lat\"], northern_df[\"Humidity\"], marker = \"o\")\n",
    "plt.plot(northern_df[\"Lat\"],regress_values,\"r-\")\n",
    "plt.ylabel(\"Humidity (%)\")\n",
    "plt.xlabel(\"Latitude\")\n",
    "plt.annotate(line_eq,(50,10),fontsize=12,color=\"red\")\n",
    "\n",
    "# Save the figure\n",
    "plt.savefig(\"MaxTempvsHumidLRnorth.png\")\n",
    "#print r-value\n",
    "print(f\"The r-value is: {rvalue}\")\n",
    "# Show plot\n",
    "plt.show()"
   ]
  },
  {
   "cell_type": "markdown",
   "metadata": {},
   "source": [
    "####  Southern Hemisphere - Humidity (%) vs. Latitude Linear Regression"
   ]
  },
  {
   "cell_type": "code",
   "execution_count": 82,
   "metadata": {},
   "outputs": [
    {
     "name": "stdout",
     "output_type": "stream",
     "text": [
      "The r-value is: 0.2574430940707371\n"
     ]
    },
    {
     "data": {
      "image/png": "[encoded data removed]",
      "text/plain": [
       "<Figure size 432x288 with 1 Axes>"
      ]
     },
     "metadata": {
      "needs_background": "light"
     },
     "output_type": "display_data"
    }
   ],
   "source": [
    "(slope, intercept, rvalue, pvalue, stderr) = linregress(southern_df[\"Lat\"], southern_df[\"Humidity\"])\n",
    "regress_values = southern_df[\"Lat\"] * slope + intercept\n",
    "line_eq = \"y = \" + str(round(slope,2)) + \"x + \" + str(round(intercept,2))\n",
    "plt.scatter(southern_df[\"Lat\"], southern_df[\"Humidity\"], marker = \"o\")\n",
    "plt.plot(southern_df[\"Lat\"],regress_values,\"r-\")\n",
    "plt.ylabel(\"Humidity (%)\")\n",
    "plt.xlabel(\"Latitude\")\n",
    "plt.annotate(line_eq,(-20,15),fontsize=13,color=\"red\")\n",
    "\n",
    "# Save the figure\n",
    "plt.savefig(\"MaxTempvsHumidLRsouth.png\")\n",
    "#print r-value\n",
    "print(f\"The r-value is: {rvalue}\")\n",
    "# Show plot\n",
    "plt.show()"
   ]
  },
  {
   "cell_type": "markdown",
   "metadata": {},
   "source": [
    "####  Northern Hemisphere - Cloudiness (%) vs. Latitude Linear Regression"
   ]
  },
  {
   "cell_type": "code",
   "execution_count": 87,
   "metadata": {},
   "outputs": [
    {
     "name": "stdout",
     "output_type": "stream",
     "text": [
      "The r-value is: -0.06358536272439992\n"
     ]
    },
    {
     "data": {
      "image/png": "[encoded data removed]",
      "text/plain": [
       "<Figure size 432x288 with 1 Axes>"
      ]
     },
     "metadata": {
      "needs_background": "light"
     },
     "output_type": "display_data"
    }
   ],
   "source": [
    "(slope, intercept, rvalue, pvalue, stderr) = linregress(northern_df[\"Lat\"], northern_df[\"Cloudiness\"])\n",
    "regress_values = northern_df[\"Lat\"] * slope + intercept\n",
    "line_eq = \"y = \" + str(round(slope,2)) + \"x + \" + str(round(intercept,2))\n",
    "plt.scatter(northern_df[\"Lat\"], northern_df[\"Cloudiness\"], marker = \"o\")\n",
    "plt.plot(northern_df[\"Lat\"],regress_values,\"r-\")\n",
    "plt.ylabel(\"Cloudiness (%)\")\n",
    "plt.xlabel(\"Latitude\")\n",
    "plt.annotate(line_eq,(-1,7),fontsize=11,color=\"red\")\n",
    "\n",
    "# Save the figure\n",
    "plt.savefig(\"MaxTempvsCloudLRnorth.png\")\n",
    "#print r-value\n",
    "print(f\"The r-value is: {rvalue}\")\n",
    "# Show plot\n",
    "plt.show()"
   ]
  },
  {
   "cell_type": "markdown",
   "metadata": {},
   "source": [
    "####  Southern Hemisphere - Cloudiness (%) vs. Latitude Linear Regression"
   ]
  },
  {
   "cell_type": "code",
   "execution_count": 90,
   "metadata": {},
   "outputs": [
    {
     "name": "stdout",
     "output_type": "stream",
     "text": [
      "The r-value is: 0.25181318740260306\n"
     ]
    },
    {
     "data": {
      "image/png": "[encoded data removed]",
      "text/plain": [
       "<Figure size 432x288 with 1 Axes>"
      ]
     },
     "metadata": {
      "needs_background": "light"
     },
     "output_type": "display_data"
    }
   ],
   "source": [
    "(slope, intercept, rvalue, pvalue, stderr) = linregress(southern_df[\"Lat\"], southern_df[\"Cloudiness\"])\n",
    "regress_values = southern_df[\"Lat\"] * slope + intercept\n",
    "line_eq = \"y = \" + str(round(slope,2)) + \"x + \" + str(round(intercept,2))\n",
    "plt.scatter(southern_df[\"Lat\"], southern_df[\"Cloudiness\"], marker = \"o\")\n",
    "plt.plot(southern_df[\"Lat\"],regress_values,\"r-\")\n",
    "plt.ylabel(\"Cloudiness (%)\")\n",
    "plt.xlabel(\"Latitude\")\n",
    "plt.annotate(line_eq,(-55,7),fontsize=11,color=\"red\")\n",
    "\n",
    "# Save the figure\n",
    "plt.savefig(\"MaxTempvsCloudLRsouth.png\")\n",
    "#print r-value\n",
    "print(f\"The r-value is: {rvalue}\")\n",
    "# Show plot\n",
    "plt.show()"
   ]
  },
  {
   "cell_type": "markdown",
   "metadata": {},
   "source": [
    "####  Northern Hemisphere - Wind Speed (mph) vs. Latitude Linear Regression"
   ]
  },
  {
   "cell_type": "code",
   "execution_count": 92,
   "metadata": {},
   "outputs": [
    {
     "name": "stdout",
     "output_type": "stream",
     "text": [
      "The r-value is: -0.01986961767247088\n"
     ]
    },
    {
     "data": {
      "image/png": "[encoded data removed]",
      "text/plain": [
       "<Figure size 432x288 with 1 Axes>"
      ]
     },
     "metadata": {
      "needs_background": "light"
     },
     "output_type": "display_data"
    }
   ],
   "source": [
    "(slope, intercept, rvalue, pvalue, stderr) = linregress(northern_df[\"Lat\"], northern_df[\"Wind Speed\"])\n",
    "regress_values = northern_df[\"Lat\"] * slope + intercept\n",
    "line_eq = \"y = \" + str(round(slope,2)) + \"x + \" + str(round(intercept,2))\n",
    "plt.scatter(northern_df[\"Lat\"], northern_df[\"Wind Speed\"], marker = \"o\")\n",
    "plt.plot(northern_df[\"Lat\"],regress_values,\"r-\")\n",
    "plt.ylabel(\"Wind Speed (mph)\")\n",
    "plt.xlabel(\"Latitude\")\n",
    "plt.annotate(line_eq,(50,26),fontsize=11,color=\"red\")\n",
    "\n",
    "# Save the figure\n",
    "plt.savefig(\"MaxTempvsWindLRnorth.png\")\n",
    "#print r-value\n",
    "print(f\"The r-value is: {rvalue}\")\n",
    "# Show plot\n",
    "plt.show()"
   ]
  },
  {
   "cell_type": "markdown",
   "metadata": {},
   "source": [
    "####  Southern Hemisphere - Wind Speed (mph) vs. Latitude Linear Regression"
   ]
  },
  {
   "cell_type": "code",
   "execution_count": 97,
   "metadata": {},
   "outputs": [
    {
     "name": "stdout",
     "output_type": "stream",
     "text": [
      "The r-value is: -0.13059099578365935\n"
     ]
    },
    {
     "data": {
      "image/png": "[encoded data removed]",
      "text/plain": [
       "<Figure size 432x288 with 1 Axes>"
      ]
     },
     "metadata": {
      "needs_background": "light"
     },
     "output_type": "display_data"
    }
   ],
   "source": [
    "(slope, intercept, rvalue, pvalue, stderr) = linregress(southern_df[\"Lat\"], southern_df[\"Wind Speed\"])\n",
    "regress_values = southern_df[\"Lat\"] * slope + intercept\n",
    "line_eq = \"y = \" + str(round(slope,2)) + \"x + \" + str(round(intercept,2))\n",
    "plt.scatter(southern_df[\"Lat\"], southern_df[\"Wind Speed\"], marker = \"o\")\n",
    "plt.plot(southern_df[\"Lat\"],regress_values,\"r-\")\n",
    "plt.ylabel(\"Wind Speed (mph)\")\n",
    "plt.xlabel(\"Latitude\")\n",
    "plt.annotate(line_eq,(-55,20),fontsize=13,color=\"red\")\n",
    "\n",
    "# Save the figure\n",
    "plt.savefig(\"MaxTempvsWindLRsouth.png\")\n",
    "#print r-value\n",
    "print(f\"The r-value is: {rvalue}\")\n",
    "# Show plot\n",
    "plt.show()"
   ]
  },
  {
   "cell_type": "markdown",
   "metadata": {},
   "source": [
    "## Analysis \n",
    "### We can assume as you go further north, the lower the max temperature is.\n",
    "### We can back this data up because this has a strong negative correlation with a r-value of -0.84\n",
    "### We can also somewhat assume as you go further south, the lower the max temperate is as well\n",
    "### This can also be backed up by our r-value of 0.58. This correlation is not as strong, so there is some chance for variance\n",
    "### Wind speed and latitude for the northern hemisphere do not seem to be related. \n",
    "### "
   ]
  }
 ],
 "metadata": {
  "anaconda-cloud": {},
  "kernel_info": {
   "name": "python3"
  },
  "kernelspec": {
   "display_name": "Python 3",
   "language": "python",
   "name": "python3"
  },
  "language_info": {
   "codemirror_mode": {
    "name": "ipython",
    "version": 3
   },
   "file_extension": ".py",
   "mimetype": "text/x-python",
   "name": "python",
   "nbconvert_exporter": "python",
   "pygments_lexer": "ipython3",
   "version": "3.8.5"
  },
  "latex_envs": {
   "LaTeX_envs_menu_present": true,
   "autoclose": false,
   "autocomplete": true,
   "bibliofile": "biblio.bib",
   "cite_by": "apalike",
   "current_citInitial": 1,
   "eqLabelWithNumbers": true,
   "eqNumInitial": 1,
   "hotkeys": {
    "equation": "Ctrl-E",
    "itemize": "Ctrl-I"
   },
   "labels_anchors": false,
   "latex_user_defs": false,
   "report_style_numbering": false,
   "user_envs_cfg": false
  },
  "nteract": {
   "version": "0.12.3"
  }
 },
 "nbformat": 4,
 "nbformat_minor": 2
}
